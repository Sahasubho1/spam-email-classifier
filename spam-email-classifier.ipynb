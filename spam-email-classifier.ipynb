{
 "cells": [
  {
   "cell_type": "code",
   "execution_count": 1,
   "id": "8273e3ea",
   "metadata": {
    "execution": {
     "iopub.execute_input": "2025-05-18T10:53:23.808634Z",
     "iopub.status.busy": "2025-05-18T10:53:23.808295Z",
     "iopub.status.idle": "2025-05-18T10:53:30.089706Z",
     "shell.execute_reply": "2025-05-18T10:53:30.088607Z"
    },
    "papermill": {
     "duration": 6.289342,
     "end_time": "2025-05-18T10:53:30.091493",
     "exception": false,
     "start_time": "2025-05-18T10:53:23.802151",
     "status": "completed"
    },
    "tags": []
   },
   "outputs": [
    {
     "name": "stderr",
     "output_type": "stream",
     "text": [
      "[nltk_data] Downloading package punkt to /usr/share/nltk_data...\n",
      "[nltk_data]   Package punkt is already up-to-date!\n",
      "[nltk_data] Downloading package wordnet to /usr/share/nltk_data...\n",
      "[nltk_data]   Package wordnet is already up-to-date!\n"
     ]
    }
   ],
   "source": [
    "import pandas as pd\n",
    "import numpy as np\n",
    "\n",
    "import matplotlib.pyplot as plt\n",
    "import seaborn as sns\n",
    "\n",
    "import nltk\n",
    "from nltk.stem import WordNetLemmatizer\n",
    "from nltk.corpus import wordnet\n",
    "nltk.download('punkt')\n",
    "nltk.download('wordnet')\n",
    "\n",
    "from sklearn.utils.class_weight import compute_class_weight\n",
    "\n",
    "from sklearn.preprocessing import FunctionTransformer\n",
    "from sklearn.model_selection import train_test_split\n",
    "from sklearn.feature_extraction.text import TfidfVectorizer\n",
    "from sklearn.linear_model import LogisticRegression\n",
    "from sklearn.pipeline import Pipeline\n",
    "\n",
    "from sklearn.metrics import accuracy_score, classification_report, confusion_matrix\n",
    "\n",
    "import joblib"
   ]
  },
  {
   "cell_type": "code",
   "execution_count": 2,
   "id": "607acdac",
   "metadata": {
    "execution": {
     "iopub.execute_input": "2025-05-18T10:53:30.102605Z",
     "iopub.status.busy": "2025-05-18T10:53:30.102112Z",
     "iopub.status.idle": "2025-05-18T10:53:30.158851Z",
     "shell.execute_reply": "2025-05-18T10:53:30.157846Z"
    },
    "papermill": {
     "duration": 0.064092,
     "end_time": "2025-05-18T10:53:30.160684",
     "exception": false,
     "start_time": "2025-05-18T10:53:30.096592",
     "status": "completed"
    },
    "tags": []
   },
   "outputs": [],
   "source": [
    "df = pd.read_csv(\"/kaggle/input/spam-email/spam.csv\")"
   ]
  },
  {
   "cell_type": "code",
   "execution_count": 3,
   "id": "a96af9c4",
   "metadata": {
    "execution": {
     "iopub.execute_input": "2025-05-18T10:53:30.170595Z",
     "iopub.status.busy": "2025-05-18T10:53:30.170238Z",
     "iopub.status.idle": "2025-05-18T10:53:30.177774Z",
     "shell.execute_reply": "2025-05-18T10:53:30.176694Z"
    },
    "papermill": {
     "duration": 0.014525,
     "end_time": "2025-05-18T10:53:30.179567",
     "exception": false,
     "start_time": "2025-05-18T10:53:30.165042",
     "status": "completed"
    },
    "tags": []
   },
   "outputs": [
    {
     "data": {
      "text/plain": [
       "(5572, 2)"
      ]
     },
     "execution_count": 3,
     "metadata": {},
     "output_type": "execute_result"
    }
   ],
   "source": [
    "df.shape"
   ]
  },
  {
   "cell_type": "code",
   "execution_count": 4,
   "id": "736e05cb",
   "metadata": {
    "execution": {
     "iopub.execute_input": "2025-05-18T10:53:30.189949Z",
     "iopub.status.busy": "2025-05-18T10:53:30.189603Z",
     "iopub.status.idle": "2025-05-18T10:53:30.202578Z",
     "shell.execute_reply": "2025-05-18T10:53:30.201583Z"
    },
    "papermill": {
     "duration": 0.019989,
     "end_time": "2025-05-18T10:53:30.204338",
     "exception": false,
     "start_time": "2025-05-18T10:53:30.184349",
     "status": "completed"
    },
    "tags": []
   },
   "outputs": [
    {
     "data": {
      "text/plain": [
       "Category    0\n",
       "Message     0\n",
       "dtype: int64"
      ]
     },
     "execution_count": 4,
     "metadata": {},
     "output_type": "execute_result"
    }
   ],
   "source": [
    "df.isna().sum()"
   ]
  },
  {
   "cell_type": "code",
   "execution_count": 5,
   "id": "0b7383bc",
   "metadata": {
    "execution": {
     "iopub.execute_input": "2025-05-18T10:53:30.214459Z",
     "iopub.status.busy": "2025-05-18T10:53:30.214099Z",
     "iopub.status.idle": "2025-05-18T10:53:30.236609Z",
     "shell.execute_reply": "2025-05-18T10:53:30.234913Z"
    },
    "papermill": {
     "duration": 0.029689,
     "end_time": "2025-05-18T10:53:30.238461",
     "exception": false,
     "start_time": "2025-05-18T10:53:30.208772",
     "status": "completed"
    },
    "tags": []
   },
   "outputs": [
    {
     "data": {
      "text/html": [
       "<div>\n",
       "<style scoped>\n",
       "    .dataframe tbody tr th:only-of-type {\n",
       "        vertical-align: middle;\n",
       "    }\n",
       "\n",
       "    .dataframe tbody tr th {\n",
       "        vertical-align: top;\n",
       "    }\n",
       "\n",
       "    .dataframe thead th {\n",
       "        text-align: right;\n",
       "    }\n",
       "</style>\n",
       "<table border=\"1\" class=\"dataframe\">\n",
       "  <thead>\n",
       "    <tr style=\"text-align: right;\">\n",
       "      <th></th>\n",
       "      <th>Category</th>\n",
       "      <th>Message</th>\n",
       "    </tr>\n",
       "  </thead>\n",
       "  <tbody>\n",
       "    <tr>\n",
       "      <th>0</th>\n",
       "      <td>ham</td>\n",
       "      <td>Go until jurong point, crazy.. Available only ...</td>\n",
       "    </tr>\n",
       "    <tr>\n",
       "      <th>1</th>\n",
       "      <td>ham</td>\n",
       "      <td>Ok lar... Joking wif u oni...</td>\n",
       "    </tr>\n",
       "    <tr>\n",
       "      <th>2</th>\n",
       "      <td>spam</td>\n",
       "      <td>Free entry in 2 a wkly comp to win FA Cup fina...</td>\n",
       "    </tr>\n",
       "    <tr>\n",
       "      <th>3</th>\n",
       "      <td>ham</td>\n",
       "      <td>U dun say so early hor... U c already then say...</td>\n",
       "    </tr>\n",
       "    <tr>\n",
       "      <th>4</th>\n",
       "      <td>ham</td>\n",
       "      <td>Nah I don't think he goes to usf, he lives aro...</td>\n",
       "    </tr>\n",
       "  </tbody>\n",
       "</table>\n",
       "</div>"
      ],
      "text/plain": [
       "  Category                                            Message\n",
       "0      ham  Go until jurong point, crazy.. Available only ...\n",
       "1      ham                      Ok lar... Joking wif u oni...\n",
       "2     spam  Free entry in 2 a wkly comp to win FA Cup fina...\n",
       "3      ham  U dun say so early hor... U c already then say...\n",
       "4      ham  Nah I don't think he goes to usf, he lives aro..."
      ]
     },
     "execution_count": 5,
     "metadata": {},
     "output_type": "execute_result"
    }
   ],
   "source": [
    "df.head()"
   ]
  },
  {
   "cell_type": "code",
   "execution_count": 6,
   "id": "11d68abd",
   "metadata": {
    "execution": {
     "iopub.execute_input": "2025-05-18T10:53:30.251064Z",
     "iopub.status.busy": "2025-05-18T10:53:30.250132Z",
     "iopub.status.idle": "2025-05-18T10:53:30.260740Z",
     "shell.execute_reply": "2025-05-18T10:53:30.259732Z"
    },
    "papermill": {
     "duration": 0.018715,
     "end_time": "2025-05-18T10:53:30.262516",
     "exception": false,
     "start_time": "2025-05-18T10:53:30.243801",
     "status": "completed"
    },
    "tags": []
   },
   "outputs": [],
   "source": [
    "df[\"Category\"] = df[\"Category\"].map(lambda x: 1 if x == \"spam\" else 0)"
   ]
  },
  {
   "cell_type": "code",
   "execution_count": 7,
   "id": "4999820a",
   "metadata": {
    "execution": {
     "iopub.execute_input": "2025-05-18T10:53:30.272949Z",
     "iopub.status.busy": "2025-05-18T10:53:30.272645Z",
     "iopub.status.idle": "2025-05-18T10:53:30.574163Z",
     "shell.execute_reply": "2025-05-18T10:53:30.573171Z"
    },
    "papermill": {
     "duration": 0.308603,
     "end_time": "2025-05-18T10:53:30.576001",
     "exception": false,
     "start_time": "2025-05-18T10:53:30.267398",
     "status": "completed"
    },
    "tags": []
   },
   "outputs": [
    {
     "data": {
      "image/png": "[encoded data removed]",
      "text/plain": [
       "<Figure size 640x480 with 1 Axes>"
      ]
     },
     "metadata": {},
     "output_type": "display_data"
    }
   ],
   "source": [
    "df[\"Category\"].value_counts().plot(kind=\"bar\")\n",
    "plt.xticks(ticks=[0, 1], labels=[\"Ham\", \"Spam\"], rotation = 0)\n",
    "plt.show()"
   ]
  },
  {
   "cell_type": "code",
   "execution_count": 8,
   "id": "8c7a96ca",
   "metadata": {
    "execution": {
     "iopub.execute_input": "2025-05-18T10:53:30.586899Z",
     "iopub.status.busy": "2025-05-18T10:53:30.586591Z",
     "iopub.status.idle": "2025-05-18T10:53:30.596336Z",
     "shell.execute_reply": "2025-05-18T10:53:30.595352Z"
    },
    "papermill": {
     "duration": 0.017194,
     "end_time": "2025-05-18T10:53:30.598211",
     "exception": false,
     "start_time": "2025-05-18T10:53:30.581017",
     "status": "completed"
    },
    "tags": []
   },
   "outputs": [],
   "source": [
    "classes = df[\"Category\"].unique()\n",
    "class_weights = compute_class_weight(class_weight='balanced', classes=classes, y=df[\"Category\"])\n",
    "class_weights_dict = dict(zip(classes, class_weights))"
   ]
  },
  {
   "cell_type": "code",
   "execution_count": 9,
   "id": "4e13b1cd",
   "metadata": {
    "execution": {
     "iopub.execute_input": "2025-05-18T10:53:30.609122Z",
     "iopub.status.busy": "2025-05-18T10:53:30.608778Z",
     "iopub.status.idle": "2025-05-18T10:53:30.614497Z",
     "shell.execute_reply": "2025-05-18T10:53:30.613518Z"
    },
    "papermill": {
     "duration": 0.013291,
     "end_time": "2025-05-18T10:53:30.616459",
     "exception": false,
     "start_time": "2025-05-18T10:53:30.603168",
     "status": "completed"
    },
    "tags": []
   },
   "outputs": [],
   "source": [
    "lemmatizer = WordNetLemmatizer()\n",
    "def lemmatize_text(text):\n",
    "    return ' '.join([lemmatizer.lemmatize(word) for word in nltk.word_tokenize(text)])\n",
    "\n",
    "def lemmatize_series(series):\n",
    "    return [lemmatize_text(x) for x in series]\n",
    "\n",
    "lemmatizer_transformer = FunctionTransformer(lemmatize_series)"
   ]
  },
  {
   "cell_type": "code",
   "execution_count": 10,
   "id": "3093a972",
   "metadata": {
    "execution": {
     "iopub.execute_input": "2025-05-18T10:53:30.628137Z",
     "iopub.status.busy": "2025-05-18T10:53:30.627790Z",
     "iopub.status.idle": "2025-05-18T10:53:30.639231Z",
     "shell.execute_reply": "2025-05-18T10:53:30.638082Z"
    },
    "papermill": {
     "duration": 0.018971,
     "end_time": "2025-05-18T10:53:30.641136",
     "exception": false,
     "start_time": "2025-05-18T10:53:30.622165",
     "status": "completed"
    },
    "tags": []
   },
   "outputs": [],
   "source": [
    "X_train, X_test, y_train, y_test = train_test_split(df[\"Message\"], df[\"Category\"], test_size = 0.4, shuffle = True, random_state = 42)"
   ]
  },
  {
   "cell_type": "code",
   "execution_count": 11,
   "id": "67ef9b58",
   "metadata": {
    "execution": {
     "iopub.execute_input": "2025-05-18T10:53:30.652054Z",
     "iopub.status.busy": "2025-05-18T10:53:30.651667Z",
     "iopub.status.idle": "2025-05-18T10:53:30.658103Z",
     "shell.execute_reply": "2025-05-18T10:53:30.656262Z"
    },
    "papermill": {
     "duration": 0.014213,
     "end_time": "2025-05-18T10:53:30.660293",
     "exception": false,
     "start_time": "2025-05-18T10:53:30.646080",
     "status": "completed"
    },
    "tags": []
   },
   "outputs": [],
   "source": [
    "model = Pipeline([(\"lemmatizer\", lemmatizer_transformer),\n",
    "                 (\"tfidf\", TfidfVectorizer(stop_words = \"english\")),\n",
    "                 (\"clf\", LogisticRegression(class_weight = class_weights_dict))])"
   ]
  },
  {
   "cell_type": "code",
   "execution_count": 12,
   "id": "69380615",
   "metadata": {
    "execution": {
     "iopub.execute_input": "2025-05-18T10:53:30.672863Z",
     "iopub.status.busy": "2025-05-18T10:53:30.671838Z",
     "iopub.status.idle": "2025-05-18T10:53:35.388627Z",
     "shell.execute_reply": "2025-05-18T10:53:35.387683Z"
    },
    "papermill": {
     "duration": 4.724864,
     "end_time": "2025-05-18T10:53:35.390683",
     "exception": false,
     "start_time": "2025-05-18T10:53:30.665819",
     "status": "completed"
    },
    "tags": []
   },
   "outputs": [
    {
     "data": {
      "text/html": [
       "<style>#sk-container-id-1 {color: black;background-color: white;}#sk-container-id-1 pre{padding: 0;}#sk-container-id-1 div.sk-toggleable {background-color: white;}#sk-container-id-1 label.sk-toggleable__label {cursor: pointer;display: block;width: 100%;margin-bottom: 0;padding: 0.3em;box-sizing: border-box;text-align: center;}#sk-container-id-1 label.sk-toggleable__label-arrow:before {content: \"▸\";float: left;margin-right: 0.25em;color: #696969;}#sk-container-id-1 label.sk-toggleable__label-arrow:hover:before {color: black;}#sk-container-id-1 div.sk-estimator:hover label.sk-toggleable__label-arrow:before {color: black;}#sk-container-id-1 div.sk-toggleable__content {max-height: 0;max-width: 0;overflow: hidden;text-align: left;background-color: #f0f8ff;}#sk-container-id-1 div.sk-toggleable__content pre {margin: 0.2em;color: black;border-radius: 0.25em;background-color: #f0f8ff;}#sk-container-id-1 input.sk-toggleable__control:checked~div.sk-toggleable__content {max-height: 200px;max-width: 100%;overflow: auto;}#sk-container-id-1 input.sk-toggleable__control:checked~label.sk-toggleable__label-arrow:before {content: \"▾\";}#sk-container-id-1 div.sk-estimator input.sk-toggleable__control:checked~label.sk-toggleable__label {background-color: #d4ebff;}#sk-container-id-1 div.sk-label input.sk-toggleable__control:checked~label.sk-toggleable__label {background-color: #d4ebff;}#sk-container-id-1 input.sk-hidden--visually {border: 0;clip: rect(1px 1px 1px 1px);clip: rect(1px, 1px, 1px, 1px);height: 1px;margin: -1px;overflow: hidden;padding: 0;position: absolute;width: 1px;}#sk-container-id-1 div.sk-estimator {font-family: monospace;background-color: #f0f8ff;border: 1px dotted black;border-radius: 0.25em;box-sizing: border-box;margin-bottom: 0.5em;}#sk-container-id-1 div.sk-estimator:hover {background-color: #d4ebff;}#sk-container-id-1 div.sk-parallel-item::after {content: \"\";width: 100%;border-bottom: 1px solid gray;flex-grow: 1;}#sk-container-id-1 div.sk-label:hover label.sk-toggleable__label {background-color: #d4ebff;}#sk-container-id-1 div.sk-serial::before {content: \"\";position: absolute;border-left: 1px solid gray;box-sizing: border-box;top: 0;bottom: 0;left: 50%;z-index: 0;}#sk-container-id-1 div.sk-serial {display: flex;flex-direction: column;align-items: center;background-color: white;padding-right: 0.2em;padding-left: 0.2em;position: relative;}#sk-container-id-1 div.sk-item {position: relative;z-index: 1;}#sk-container-id-1 div.sk-parallel {display: flex;align-items: stretch;justify-content: center;background-color: white;position: relative;}#sk-container-id-1 div.sk-item::before, #sk-container-id-1 div.sk-parallel-item::before {content: \"\";position: absolute;border-left: 1px solid gray;box-sizing: border-box;top: 0;bottom: 0;left: 50%;z-index: -1;}#sk-container-id-1 div.sk-parallel-item {display: flex;flex-direction: column;z-index: 1;position: relative;background-color: white;}#sk-container-id-1 div.sk-parallel-item:first-child::after {align-self: flex-end;width: 50%;}#sk-container-id-1 div.sk-parallel-item:last-child::after {align-self: flex-start;width: 50%;}#sk-container-id-1 div.sk-parallel-item:only-child::after {width: 0;}#sk-container-id-1 div.sk-dashed-wrapped {border: 1px dashed gray;margin: 0 0.4em 0.5em 0.4em;box-sizing: border-box;padding-bottom: 0.4em;background-color: white;}#sk-container-id-1 div.sk-label label {font-family: monospace;font-weight: bold;display: inline-block;line-height: 1.2em;}#sk-container-id-1 div.sk-label-container {text-align: center;}#sk-container-id-1 div.sk-container {/* jupyter's `normalize.less` sets `[hidden] { display: none; }` but bootstrap.min.css set `[hidden] { display: none !important; }` so we also need the `!important` here to be able to override the default hidden behavior on the sphinx rendered scikit-learn.org. See: https://github.com/scikit-learn/scikit-learn/issues/21755 */display: inline-block !important;position: relative;}#sk-container-id-1 div.sk-text-repr-fallback {display: none;}</style><div id=\"sk-container-id-1\" class=\"sk-top-container\"><div class=\"sk-text-repr-fallback\"><pre>Pipeline(steps=[(&#x27;lemmatizer&#x27;,\n",
       "                 FunctionTransformer(func=&lt;function lemmatize_series at 0x7b151312fb00&gt;)),\n",
       "                (&#x27;tfidf&#x27;, TfidfVectorizer(stop_words=&#x27;english&#x27;)),\n",
       "                (&#x27;clf&#x27;,\n",
       "                 LogisticRegression(class_weight={0: 0.5774093264248704,\n",
       "                                                  1: 3.7295850066934406}))])</pre><b>In a Jupyter environment, please rerun this cell to show the HTML representation or trust the notebook. <br />On GitHub, the HTML representation is unable to render, please try loading this page with nbviewer.org.</b></div><div class=\"sk-container\" hidden><div class=\"sk-item sk-dashed-wrapped\"><div class=\"sk-label-container\"><div class=\"sk-label sk-toggleable\"><input class=\"sk-toggleable__control sk-hidden--visually\" id=\"sk-estimator-id-1\" type=\"checkbox\" ><label for=\"sk-estimator-id-1\" class=\"sk-toggleable__label sk-toggleable__label-arrow\">Pipeline</label><div class=\"sk-toggleable__content\"><pre>Pipeline(steps=[(&#x27;lemmatizer&#x27;,\n",
       "                 FunctionTransformer(func=&lt;function lemmatize_series at 0x7b151312fb00&gt;)),\n",
       "                (&#x27;tfidf&#x27;, TfidfVectorizer(stop_words=&#x27;english&#x27;)),\n",
       "                (&#x27;clf&#x27;,\n",
       "                 LogisticRegression(class_weight={0: 0.5774093264248704,\n",
       "                                                  1: 3.7295850066934406}))])</pre></div></div></div><div class=\"sk-serial\"><div class=\"sk-item\"><div class=\"sk-estimator sk-toggleable\"><input class=\"sk-toggleable__control sk-hidden--visually\" id=\"sk-estimator-id-2\" type=\"checkbox\" ><label for=\"sk-estimator-id-2\" class=\"sk-toggleable__label sk-toggleable__label-arrow\">FunctionTransformer</label><div class=\"sk-toggleable__content\"><pre>FunctionTransformer(func=&lt;function lemmatize_series at 0x7b151312fb00&gt;)</pre></div></div></div><div class=\"sk-item\"><div class=\"sk-estimator sk-toggleable\"><input class=\"sk-toggleable__control sk-hidden--visually\" id=\"sk-estimator-id-3\" type=\"checkbox\" ><label for=\"sk-estimator-id-3\" class=\"sk-toggleable__label sk-toggleable__label-arrow\">TfidfVectorizer</label><div class=\"sk-toggleable__content\"><pre>TfidfVectorizer(stop_words=&#x27;english&#x27;)</pre></div></div></div><div class=\"sk-item\"><div class=\"sk-estimator sk-toggleable\"><input class=\"sk-toggleable__control sk-hidden--visually\" id=\"sk-estimator-id-4\" type=\"checkbox\" ><label for=\"sk-estimator-id-4\" class=\"sk-toggleable__label sk-toggleable__label-arrow\">LogisticRegression</label><div class=\"sk-toggleable__content\"><pre>LogisticRegression(class_weight={0: 0.5774093264248704, 1: 3.7295850066934406})</pre></div></div></div></div></div></div></div>"
      ],
      "text/plain": [
       "Pipeline(steps=[('lemmatizer',\n",
       "                 FunctionTransformer(func=<function lemmatize_series at 0x7b151312fb00>)),\n",
       "                ('tfidf', TfidfVectorizer(stop_words='english')),\n",
       "                ('clf',\n",
       "                 LogisticRegression(class_weight={0: 0.5774093264248704,\n",
       "                                                  1: 3.7295850066934406}))])"
      ]
     },
     "execution_count": 12,
     "metadata": {},
     "output_type": "execute_result"
    }
   ],
   "source": [
    "model.fit(X_train, y_train)"
   ]
  },
  {
   "cell_type": "code",
   "execution_count": 13,
   "id": "7ea4841f",
   "metadata": {
    "execution": {
     "iopub.execute_input": "2025-05-18T10:53:35.410826Z",
     "iopub.status.busy": "2025-05-18T10:53:35.409055Z",
     "iopub.status.idle": "2025-05-18T10:53:36.032518Z",
     "shell.execute_reply": "2025-05-18T10:53:36.031549Z"
    },
    "papermill": {
     "duration": 0.635135,
     "end_time": "2025-05-18T10:53:36.034338",
     "exception": false,
     "start_time": "2025-05-18T10:53:35.399203",
     "status": "completed"
    },
    "tags": []
   },
   "outputs": [],
   "source": [
    "y_predict = model.predict(X_test)"
   ]
  },
  {
   "cell_type": "code",
   "execution_count": 14,
   "id": "311d4974",
   "metadata": {
    "execution": {
     "iopub.execute_input": "2025-05-18T10:53:36.046630Z",
     "iopub.status.busy": "2025-05-18T10:53:36.046246Z",
     "iopub.status.idle": "2025-05-18T10:53:36.053492Z",
     "shell.execute_reply": "2025-05-18T10:53:36.052399Z"
    },
    "papermill": {
     "duration": 0.015818,
     "end_time": "2025-05-18T10:53:36.055412",
     "exception": false,
     "start_time": "2025-05-18T10:53:36.039594",
     "status": "completed"
    },
    "tags": []
   },
   "outputs": [],
   "source": [
    "acc = accuracy_score(y_test, y_predict)"
   ]
  },
  {
   "cell_type": "code",
   "execution_count": 15,
   "id": "80c85dc2",
   "metadata": {
    "execution": {
     "iopub.execute_input": "2025-05-18T10:53:36.067475Z",
     "iopub.status.busy": "2025-05-18T10:53:36.067174Z",
     "iopub.status.idle": "2025-05-18T10:53:36.072266Z",
     "shell.execute_reply": "2025-05-18T10:53:36.071152Z"
    },
    "papermill": {
     "duration": 0.013189,
     "end_time": "2025-05-18T10:53:36.074098",
     "exception": false,
     "start_time": "2025-05-18T10:53:36.060909",
     "status": "completed"
    },
    "tags": []
   },
   "outputs": [
    {
     "name": "stdout",
     "output_type": "stream",
     "text": [
      "Model Accuracy: 98.12%\n"
     ]
    }
   ],
   "source": [
    "print(f\"Model Accuracy: {acc*100:.2f}%\")"
   ]
  },
  {
   "cell_type": "code",
   "execution_count": 16,
   "id": "09932404",
   "metadata": {
    "execution": {
     "iopub.execute_input": "2025-05-18T10:53:36.086009Z",
     "iopub.status.busy": "2025-05-18T10:53:36.085613Z",
     "iopub.status.idle": "2025-05-18T10:53:36.101360Z",
     "shell.execute_reply": "2025-05-18T10:53:36.100117Z"
    },
    "papermill": {
     "duration": 0.023427,
     "end_time": "2025-05-18T10:53:36.102923",
     "exception": false,
     "start_time": "2025-05-18T10:53:36.079496",
     "status": "completed"
    },
    "tags": []
   },
   "outputs": [
    {
     "name": "stdout",
     "output_type": "stream",
     "text": [
      "              precision    recall  f1-score   support\n",
      "\n",
      "           0       0.99      0.99      0.99      1938\n",
      "           1       0.91      0.96      0.93       291\n",
      "\n",
      "    accuracy                           0.98      2229\n",
      "   macro avg       0.95      0.97      0.96      2229\n",
      "weighted avg       0.98      0.98      0.98      2229\n",
      "\n"
     ]
    }
   ],
   "source": [
    "cr = classification_report(y_test, y_predict)\n",
    "print(cr)"
   ]
  },
  {
   "cell_type": "markdown",
   "id": "7da9adc7",
   "metadata": {
    "papermill": {
     "duration": 0.004636,
     "end_time": "2025-05-18T10:53:36.112771",
     "exception": false,
     "start_time": "2025-05-18T10:53:36.108135",
     "status": "completed"
    },
    "tags": []
   },
   "source": []
  },
  {
   "cell_type": "code",
   "execution_count": 17,
   "id": "83d8f6f0",
   "metadata": {
    "execution": {
     "iopub.execute_input": "2025-05-18T10:53:36.123736Z",
     "iopub.status.busy": "2025-05-18T10:53:36.123425Z",
     "iopub.status.idle": "2025-05-18T10:53:36.329720Z",
     "shell.execute_reply": "2025-05-18T10:53:36.328336Z"
    },
    "papermill": {
     "duration": 0.214129,
     "end_time": "2025-05-18T10:53:36.331734",
     "exception": false,
     "start_time": "2025-05-18T10:53:36.117605",
     "status": "completed"
    },
    "tags": []
   },
   "outputs": [
    {
     "data": {
      "image/png": "[encoded data removed]",
      "text/plain": [
       "<Figure size 640x480 with 2 Axes>"
      ]
     },
     "metadata": {},
     "output_type": "display_data"
    }
   ],
   "source": [
    "cm = confusion_matrix(y_predict, y_test)\n",
    "sns.heatmap(cm, cmap = \"viridis\", annot = True, fmt = \".2f\", xticklabels = [\"Ham\", \"Spam\"], yticklabels = [\"Ham\", \"Spam\"])\n",
    "plt.xlabel(\"Actual\")\n",
    "plt.ylabel(\"Predicted\")\n",
    "plt.title(\"Confusion Matrix\")\n",
    "plt.show()"
   ]
  },
  {
   "cell_type": "code",
   "execution_count": 18,
   "id": "b91ab0a3",
   "metadata": {
    "execution": {
     "iopub.execute_input": "2025-05-18T10:53:36.345113Z",
     "iopub.status.busy": "2025-05-18T10:53:36.344761Z",
     "iopub.status.idle": "2025-05-18T10:53:36.349936Z",
     "shell.execute_reply": "2025-05-18T10:53:36.348566Z"
    },
    "papermill": {
     "duration": 0.014599,
     "end_time": "2025-05-18T10:53:36.352135",
     "exception": false,
     "start_time": "2025-05-18T10:53:36.337536",
     "status": "completed"
    },
    "tags": []
   },
   "outputs": [],
   "source": [
    "emails = [\"Get free merchs !!\",\n",
    "         \"Welcome to your account. We are happy to see you onboard. Looking forward to working with you.\"]"
   ]
  },
  {
   "cell_type": "code",
   "execution_count": 19,
   "id": "e3d7ecf9",
   "metadata": {
    "execution": {
     "iopub.execute_input": "2025-05-18T10:53:36.365584Z",
     "iopub.status.busy": "2025-05-18T10:53:36.365271Z",
     "iopub.status.idle": "2025-05-18T10:53:36.373422Z",
     "shell.execute_reply": "2025-05-18T10:53:36.372467Z"
    },
    "papermill": {
     "duration": 0.01684,
     "end_time": "2025-05-18T10:53:36.375231",
     "exception": false,
     "start_time": "2025-05-18T10:53:36.358391",
     "status": "completed"
    },
    "tags": []
   },
   "outputs": [
    {
     "data": {
      "text/plain": [
       "array([1, 0])"
      ]
     },
     "execution_count": 19,
     "metadata": {},
     "output_type": "execute_result"
    }
   ],
   "source": [
    "model.predict(emails)"
   ]
  },
  {
   "cell_type": "code",
   "execution_count": 20,
   "id": "8830131e",
   "metadata": {
    "execution": {
     "iopub.execute_input": "2025-05-18T10:53:36.387888Z",
     "iopub.status.busy": "2025-05-18T10:53:36.387572Z",
     "iopub.status.idle": "2025-05-18T10:53:36.421651Z",
     "shell.execute_reply": "2025-05-18T10:53:36.420734Z"
    },
    "papermill": {
     "duration": 0.041991,
     "end_time": "2025-05-18T10:53:36.423072",
     "exception": false,
     "start_time": "2025-05-18T10:53:36.381081",
     "status": "completed"
    },
    "tags": []
   },
   "outputs": [
    {
     "data": {
      "text/plain": [
       "['classifier.pkl']"
      ]
     },
     "execution_count": 20,
     "metadata": {},
     "output_type": "execute_result"
    }
   ],
   "source": [
    "joblib.dump(model, \"classifier.pkl\")"
   ]
  },
  {
   "cell_type": "code",
   "execution_count": null,
   "id": "92c29c04",
   "metadata": {
    "papermill": {
     "duration": 0.00544,
     "end_time": "2025-05-18T10:53:36.434320",
     "exception": false,
     "start_time": "2025-05-18T10:53:36.428880",
     "status": "completed"
    },
    "tags": []
   },
   "outputs": [],
   "source": []
  }
 ],
 "metadata": {
  "kaggle": {
   "accelerator": "none",
   "dataSources": [
    {
     "datasetId": 1422521,
     "sourceId": 2355807,
     "sourceType": "datasetVersion"
    }
   ],
   "dockerImageVersionId": 31040,
   "isGpuEnabled": false,
   "isInternetEnabled": true,
   "language": "python",
   "sourceType": "notebook"
  },
  "kernelspec": {
   "display_name": "Python 3",
   "language": "python",
   "name": "python3"
  },
  "language_info": {
   "codemirror_mode": {
    "name": "ipython",
    "version": 3
   },
   "file_extension": ".py",
   "mimetype": "text/x-python",
   "name": "python",
   "nbconvert_exporter": "python",
   "pygments_lexer": "ipython3",
   "version": "3.11.11"
  },
  "papermill": {
   "default_parameters": {},
   "duration": 19.69034,
   "end_time": "2025-05-18T10:53:37.765028",
   "environment_variables": {},
   "exception": null,
   "input_path": "__notebook__.ipynb",
   "output_path": "__notebook__.ipynb",
   "parameters": {},
   "start_time": "2025-05-18T10:53:18.074688",
   "version": "2.6.0"
  }
 },
 "nbformat": 4,
 "nbformat_minor": 5
}
